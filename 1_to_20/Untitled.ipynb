{
 "cells": [
  {
   "cell_type": "code",
   "execution_count": 3,
   "metadata": {},
   "outputs": [
    {
     "ename": "NameError",
     "evalue": "name 'silhouette_samples' is not defined",
     "output_type": "error",
     "traceback": [
      "\u001b[0;31m---------------------------------------------------------------------------\u001b[0m",
      "\u001b[0;31mNameError\u001b[0m                                 Traceback (most recent call last)",
      "\u001b[0;32m<ipython-input-3-f000cf2b74be>\u001b[0m in \u001b[0;36m<module>\u001b[0;34m\u001b[0m\n\u001b[1;32m     40\u001b[0m     \u001b[0mkmeans\u001b[0m \u001b[0;34m=\u001b[0m \u001b[0mKMeans\u001b[0m\u001b[0;34m(\u001b[0m\u001b[0mn_clusters\u001b[0m \u001b[0;34m=\u001b[0m \u001b[0;36m10\u001b[0m\u001b[0;34m,\u001b[0m \u001b[0minit\u001b[0m \u001b[0;34m=\u001b[0m \u001b[0;34m'k-means++'\u001b[0m\u001b[0;34m,\u001b[0m \u001b[0mrandom_state\u001b[0m \u001b[0;34m=\u001b[0m \u001b[0;36m0\u001b[0m\u001b[0;34m)\u001b[0m\u001b[0;34m\u001b[0m\u001b[0;34m\u001b[0m\u001b[0m\n\u001b[1;32m     41\u001b[0m     \u001b[0mlabels\u001b[0m \u001b[0;34m=\u001b[0m \u001b[0mkmeans\u001b[0m\u001b[0;34m.\u001b[0m\u001b[0mfit_predict\u001b[0m\u001b[0;34m(\u001b[0m\u001b[0mnormalized_dataframes\u001b[0m\u001b[0;34m[\u001b[0m\u001b[0mi\u001b[0m\u001b[0;34m]\u001b[0m\u001b[0;34m)\u001b[0m\u001b[0;34m\u001b[0m\u001b[0;34m\u001b[0m\u001b[0m\n\u001b[0;32m---> 42\u001b[0;31m     \u001b[0mcoeff\u001b[0m \u001b[0;34m=\u001b[0m \u001b[0msilhouette_samples\u001b[0m\u001b[0;34m(\u001b[0m\u001b[0mnormalized_dataframes\u001b[0m\u001b[0;34m[\u001b[0m\u001b[0mi\u001b[0m\u001b[0;34m]\u001b[0m\u001b[0;34m,\u001b[0m \u001b[0mlabels\u001b[0m\u001b[0;34m)\u001b[0m\u001b[0;34m\u001b[0m\u001b[0;34m\u001b[0m\u001b[0m\n\u001b[0m\u001b[1;32m     43\u001b[0m     \u001b[0mcoeff_df\u001b[0m \u001b[0;34m=\u001b[0m \u001b[0mpd\u001b[0m\u001b[0;34m.\u001b[0m\u001b[0mDataFrame\u001b[0m\u001b[0;34m(\u001b[0m\u001b[0mcoeff\u001b[0m\u001b[0;34m)\u001b[0m\u001b[0;34m\u001b[0m\u001b[0;34m\u001b[0m\u001b[0m\n\u001b[1;32m     44\u001b[0m     \u001b[0mfile_name\u001b[0m \u001b[0;34m=\u001b[0m \u001b[0;34m\"/home/zahed/Desktop/python-machine-learning-/1_to_20/Coefficients/silhouette_coeffs_{}.xlsx\"\u001b[0m\u001b[0;34m.\u001b[0m\u001b[0mformat\u001b[0m\u001b[0;34m(\u001b[0m\u001b[0mi\u001b[0m\u001b[0;34m+\u001b[0m\u001b[0;36m1\u001b[0m\u001b[0;34m)\u001b[0m\u001b[0;34m\u001b[0m\u001b[0;34m\u001b[0m\u001b[0m\n",
      "\u001b[0;31mNameError\u001b[0m: name 'silhouette_samples' is not defined"
     ]
    }
   ],
   "source": [
    "import pandas as pd\n",
    "\n",
    "from sklearn.cluster import KMeans\n",
    "from sklearn.metrics import silhouette_score as sc\n",
    "\n",
    "dataframes = []\n",
    "for i in range(1,57):\n",
    "    file_name = \"/home/zahed/Desktop/python-machine-learning-/{}.csv\".format(i)\n",
    "    df = pd.read_csv(file_name, header=None, index_col=False)\n",
    "    df.drop(df.columns[len(df.columns)-1], axis=1, inplace=True)\n",
    "    df.dropna(axis=0)\n",
    "    df.dropna(axis=1)\n",
    "    dataframes.append(df)\n",
    "\n",
    "normalized_dataframes = []\n",
    "for i in range(0,56):\n",
    "    df = dataframes[i]\n",
    "    normalized_df = (df-df.min())/(df.max()-df.min())\n",
    "    normalized_df.fillna(0, inplace=True)\n",
    "    normalized_dataframes.append(normalized_df)\n",
    "\n",
    "sses = []\n",
    "silhouette_scores = []\n",
    "for i in range(0, 56):\n",
    "    kmeans = KMeans(n_clusters = 10, init = 'k-means++', random_state = 0)\n",
    "    df = normalized_dataframes[i]\n",
    "    predictions = kmeans.fit_predict(df)\n",
    "    silhouette_score = sc(df, predictions, metric='euclidean')\n",
    "    sses.append(kmeans.inertia_)\n",
    "    silhouette_scores.append(silhouette_score)\n",
    "\n",
    "sse_df = pd.DataFrame(sses)\n",
    "silhouette_scores_df = pd.DataFrame(silhouette_scores)\n",
    "\n",
    "sse_df.to_excel(excel_writer=\"/home/zahed/Desktop/python-machine-learning-/1_to_20/sse.xlsx\", header=None, index=True)\n",
    "silhouette_scores_df.to_excel(excel_writer=\"/home/zahed/Desktop/python-machine-learning-/1_to_20/silhouette_scores.xlsx\", header=None, index=True)\n",
    "\n",
    "# Code for generating silhouette coefficients of individual samples in all datasets.\n",
    "for i in range(0, 56):\n",
    "    kmeans = KMeans(n_clusters = 10, init = 'k-means++', random_state = 0)\n",
    "    labels = kmeans.fit_predict(normalized_dataframes[i])\n",
    "    coeff = silhouette_samples(normalized_dataframes[i], labels)\n",
    "    coeff_df = pd.DataFrame(coeff)\n",
    "    file_name = \"/home/zahed/Desktop/python-machine-learning-/1_to_20/Coefficients/silhouette_coeffs_{}.xlsx\".format(i+1)\n",
    "    coeff_df.to_excel(excel_writer=file_name, header=None, index=True)"
   ]
  },
  {
   "cell_type": "code",
   "execution_count": 5,
   "metadata": {},
   "outputs": [],
   "source": [
    "from sklearn.metrics import silhouette_samples\n",
    "# Code for generating silhouette coefficients of individual samples in all datasets.\n",
    "for i in range(0, 56):\n",
    "    kmeans = KMeans(n_clusters = 10, init = 'k-means++', random_state = 0)\n",
    "    labels = kmeans.fit_predict(normalized_dataframes[i])\n",
    "    coeff = silhouette_samples(normalized_dataframes[i], labels)\n",
    "    coeff_df = pd.DataFrame(coeff)\n",
    "    file_name = \"/home/zahed/Desktop/python-machine-learning-/1_to_20/Coefficients/silhouette_coeffs_{}.xlsx\".format(i+1)\n",
    "    coeff_df.to_excel(excel_writer=file_name, header=None, index=True)"
   ]
  },
  {
   "cell_type": "code",
   "execution_count": null,
   "metadata": {},
   "outputs": [],
   "source": []
  }
 ],
 "metadata": {
  "kernelspec": {
   "display_name": "Python 3",
   "language": "python",
   "name": "python3"
  },
  "language_info": {
   "codemirror_mode": {
    "name": "ipython",
    "version": 3
   },
   "file_extension": ".py",
   "mimetype": "text/x-python",
   "name": "python",
   "nbconvert_exporter": "python",
   "pygments_lexer": "ipython3",
   "version": "3.6.8"
  }
 },
 "nbformat": 4,
 "nbformat_minor": 2
}
